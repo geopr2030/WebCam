{
  "nbformat": 4,
  "nbformat_minor": 0,
  "metadata": {
    "colab": {
      "provenance": [],
      "authorship_tag": "ABX9TyN9DKKjaPvM6Hk3gPJ4yXhM"
    },
    "kernelspec": {
      "name": "python3",
      "display_name": "Python 3"
    },
    "language_info": {
      "name": "python"
    }
  },
  "cells": [
    {
      "cell_type": "code",
      "execution_count": 2,
      "metadata": {
        "id": "mbej5VbvUwS2"
      },
      "outputs": [],
      "source": [
        "#Import Opencv for computer vision stuff\n",
        "import cv2\n",
        "#Import matplotlib so we can visualize an image\n",
        "from matplotlib import pyplot as plt"
      ]
    },
    {
      "cell_type": "markdown",
      "source": [
        "Connecting to Our WebCam"
      ],
      "metadata": {
        "id": "grzaOXMbVMhc"
      }
    },
    {
      "cell_type": "code",
      "source": [
        "from IPython.display import display, Javascript\n",
        "from google.colab.output import eval_js\n",
        "import cv2\n",
        "import numpy as np\n",
        "from PIL import Image\n",
        "import io\n",
        "import base64\n",
        "\n",
        "def take_photo(filename='photo.jpg', quality=0.8):\n",
        "    js = Javascript('''\n",
        "    async function takePhoto(quality) {\n",
        "        const div = document.createElement('div');\n",
        "        const capture = document.createElement('button');\n",
        "        capture.textContent = 'Capture';\n",
        "        div.appendChild(capture);\n",
        "\n",
        "        const video = document.createElement('video');\n",
        "        video.style.display = 'block';\n",
        "        const stream = await navigator.mediaDevices.getUserMedia({video: true});\n",
        "\n",
        "        document.body.appendChild(div);\n",
        "        div.appendChild(video);\n",
        "        video.srcObject = stream;\n",
        "        await video.play();\n",
        "\n",
        "        // Resize video element to match video stream's resolution\n",
        "        video.width = video.videoWidth;\n",
        "        video.height = video.videoHeight;\n",
        "\n",
        "        // Wait for Capture to be clicked.\n",
        "        await new Promise((resolve) => capture.onclick = resolve);\n",
        "\n",
        "        const canvas = document.createElement('canvas');\n",
        "        canvas.width = video.videoWidth;\n",
        "        canvas.height = video.videoHeight;\n",
        "        canvas.getContext('2d').drawImage(video, 0, 0);\n",
        "        stream.getTracks().forEach(track => track.stop());\n",
        "        div.remove();\n",
        "        return canvas.toDataURL('image/jpeg', quality);\n",
        "    }\n",
        "    ''')\n",
        "    display(js)\n",
        "    data = eval_js('takePhoto({})'.format(quality))\n",
        "    binary = io.BytesIO(base64.b64decode(data.split(',')[1]))\n",
        "    img = Image.open(binary)\n",
        "    img.save(filename)\n",
        "    return filename\n",
        "\n",
        "# Capture a photo\n",
        "photo_filename = take_photo()\n",
        "print(f'Photo saved as {photo_filename}')\n",
        "\n",
        "# Load the image using OpenCV\n",
        "img = cv2.imread(photo_filename)\n",
        "\n",
        "# Convert the image from BGR to RGB\n",
        "img_rgb = cv2.cvtColor\n"
      ],
      "metadata": {
        "colab": {
          "base_uri": "https://localhost:8080/",
          "height": 34
        },
        "id": "fOVJRDoCVLwN",
        "outputId": "6d07f21e-0f78-4803-8e7c-43fe4cdbf9c5"
      },
      "execution_count": 57,
      "outputs": [
        {
          "output_type": "display_data",
          "data": {
            "text/plain": [
              "<IPython.core.display.Javascript object>"
            ],
            "application/javascript": [
              "\n",
              "    async function takePhoto(quality) {\n",
              "        const div = document.createElement('div');\n",
              "        const capture = document.createElement('button');\n",
              "        capture.textContent = 'Capture';\n",
              "        div.appendChild(capture);\n",
              "\n",
              "        const video = document.createElement('video');\n",
              "        video.style.display = 'block';\n",
              "        const stream = await navigator.mediaDevices.getUserMedia({video: true});\n",
              "\n",
              "        document.body.appendChild(div);\n",
              "        div.appendChild(video);\n",
              "        video.srcObject = stream;\n",
              "        await video.play();\n",
              "\n",
              "        // Resize video element to match video stream's resolution\n",
              "        video.width = video.videoWidth;\n",
              "        video.height = video.videoHeight;\n",
              "\n",
              "        // Wait for Capture to be clicked.\n",
              "        await new Promise((resolve) => capture.onclick = resolve);\n",
              "\n",
              "        const canvas = document.createElement('canvas');\n",
              "        canvas.width = video.videoWidth;\n",
              "        canvas.height = video.videoHeight;\n",
              "        canvas.getContext('2d').drawImage(video, 0, 0);\n",
              "        stream.getTracks().forEach(track => track.stop());\n",
              "        div.remove();\n",
              "        return canvas.toDataURL('image/jpeg', quality);\n",
              "    }\n",
              "    "
            ]
          },
          "metadata": {}
        },
        {
          "output_type": "stream",
          "name": "stdout",
          "text": [
            "Photo saved as photo.jpg\n"
          ]
        }
      ]
    },
    {
      "cell_type": "markdown",
      "source": [
        "Rendering in Real Time"
      ],
      "metadata": {
        "id": "pZRVoIpLZ6RV"
      }
    }
  ]
}